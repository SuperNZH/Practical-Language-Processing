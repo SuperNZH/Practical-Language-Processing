{
  "nbformat": 4,
  "nbformat_minor": 0,
  "metadata": {
    "kernelspec": {
      "display_name": "nlp",
      "language": "python",
      "name": "nlp"
    },
    "language_info": {
      "codemirror_mode": {
        "name": "ipython",
        "version": 3
      },
      "file_extension": ".py",
      "mimetype": "text/x-python",
      "name": "python",
      "nbconvert_exporter": "python",
      "pygments_lexer": "ipython3",
      "version": "3.8.3"
    },
    "colab": {
      "name": "Copy of NMSM_3_2_Entity_and_Aspect_Mining_with_CRF.ipynb",
      "provenance": [],
      "collapsed_sections": []
    }
  },
  "cells": [
    {
      "cell_type": "markdown",
      "metadata": {
        "id": "PPh_ZEIxmvO_"
      },
      "source": [
        "## Supervised Learning for Entity and Aspect Mining\n",
        "\n",
        "This notebook introduces Conditional Random Fields (CRF) for entity and aspect mining. Recall that we have mentioned that entity and aspect mining involves 3 main tasks:\n",
        "1. Extraction of entity \n",
        "2. Extraction of aspects associated with the entity\n",
        "3. Sentiment classification\n",
        "\n",
        "In this notebook, we use CRF for the second task. \n",
        "\n",
        "### Conditional Random Fields\n",
        "CRF is a machine learning technique that works on sequences and is very popular in natural language porcessing (NLP), e.g. in Named entity Recogition (NER), Part of speech tagging (POS) and word sense disambiguation. \n",
        "\n",
        "The CRF is a subset of HMF (hidden markov fields) in that it may have dependencies beyond the adjacent words.\n",
        "\n",
        "Earlier, we had introduced several heuristic techniques based on dependency relations for the extraction of aspects. In this notebook, we try integrate linguistic features into the ML model, e.g. POS information of words. "
      ]
    },
    {
      "cell_type": "code",
      "metadata": {
        "colab": {
          "base_uri": "https://localhost:8080/"
        },
        "id": "jtXfruhdmvPH",
        "outputId": "c9a9f50f-d198-451e-81f6-d322b65fbad4"
      },
      "source": [
        "from itertools import chain\n",
        "import nltk\n",
        "from sklearn.metrics import classification_report, confusion_matrix\n",
        "from sklearn.preprocessing import LabelBinarizer\n",
        "import sklearn\n",
        "import pandas as pd\n",
        "\n",
        "!pip install python-crfsuite\n",
        "import pycrfsuite\n",
        "\n",
        "print(sklearn.__version__)"
      ],
      "execution_count": null,
      "outputs": [
        {
          "output_type": "stream",
          "name": "stdout",
          "text": [
            "Looking in indexes: https://pypi.org/simple, https://us-python.pkg.dev/colab-wheels/public/simple/\n",
            "Collecting python-crfsuite\n",
            "  Downloading python_crfsuite-0.9.8-cp37-cp37m-manylinux_2_17_x86_64.manylinux2014_x86_64.whl (965 kB)\n",
            "\u001b[K     |████████████████████████████████| 965 kB 4.3 MB/s \n",
            "\u001b[?25hInstalling collected packages: python-crfsuite\n",
            "Successfully installed python-crfsuite-0.9.8\n",
            "1.0.2\n"
          ]
        }
      ]
    },
    {
      "cell_type": "markdown",
      "metadata": {
        "id": "KenXDfEXmvPI"
      },
      "source": [
        "#Data Preparation\n",
        "Our labelled data set is in IOB format with 3 columns. The first column is the actual words, the second is the POS and the 3rd column states whether it is B-A, I-A or others O. We write a simple code to convert it into a form for the pycrfsuite library. This is the most accessible library to run CRFs. \n",
        "\n",
        "The function word2features extracts out features in the sentence - in this case just POS of the individual tokens. The function is adapted from https://sklearn-crfsuite.readthedocs.io/en/latest/tutorial.html"
      ]
    },
    {
      "cell_type": "code",
      "metadata": {
        "colab": {
          "base_uri": "https://localhost:8080/"
        },
        "id": "ed_Ox-16mvPJ",
        "outputId": "8b38ea2a-46e7-4611-8329-d4278207dd91"
      },
      "source": [
        "# Read in the tuples line by line from file, and put into sentences\n",
        "\n",
        "def createCRFSet(fname):\n",
        "    train_sents = []\n",
        "    t_sent = []\n",
        "    tuples = []\n",
        "    fp = open(fname,  encoding=\"utf-8\")\n",
        "   \n",
        "   #get tuples\n",
        "    for line in fp.readlines():\n",
        "        line = tuple(line.split())\n",
        "        tuples.append(line)\n",
        "    \n",
        "    #put tuples into each sentence\n",
        "    for t in tuples:\n",
        "        if len(t)!=0: \n",
        "            t_sent.append(t)\n",
        "        else:\n",
        "            train_sents.append(t_sent)\n",
        "            t_sent=[]\n",
        "    \n",
        "    return train_sents\n",
        "\n",
        "train_sents = createCRFSet(\"./Restaurants_Train.iob\")\n",
        "test_sents = createCRFSet(\"./Restaurants_Test.iob\")\n",
        "print(len(train_sents))\n",
        "print(len(test_sents))\n"
      ],
      "execution_count": null,
      "outputs": [
        {
          "output_type": "stream",
          "name": "stdout",
          "text": [
            "3041\n",
            "800\n"
          ]
        }
      ]
    },
    {
      "cell_type": "code",
      "metadata": {
        "colab": {
          "base_uri": "https://localhost:8080/"
        },
        "id": "CNYoh6dLmvPK",
        "outputId": "6c438fa5-82be-4ba7-e766-e5b3f2a2887c"
      },
      "source": [
        "train_sents[0]"
      ],
      "execution_count": null,
      "outputs": [
        {
          "output_type": "execute_result",
          "data": {
            "text/plain": [
              "[('But', 'CC', 'O'),\n",
              " ('the', 'DT', 'O'),\n",
              " ('staff', 'NN', 'B-A'),\n",
              " ('was', 'VBD', 'O'),\n",
              " ('so', 'RB', 'O'),\n",
              " ('horrible', 'JJ', 'O'),\n",
              " ('to', 'TO', 'O'),\n",
              " ('us', 'PRP', 'O'),\n",
              " ('.', '.', 'O')]"
            ]
          },
          "metadata": {},
          "execution_count": 10
        }
      ]
    },
    {
      "cell_type": "code",
      "metadata": {
        "id": "H4fTjf5AmvPK"
      },
      "source": [
        "def word2features(sent, i):\n",
        "    word = sent[i][0]\n",
        "    postag = sent[i][1]\n",
        "    features = [  # for all words\n",
        "        'bias',\n",
        "        'postag=' + postag,\n",
        "        #'word.lower()=' + word.lower(),\n",
        "        #'word[-3:]='+ word[-3:],\n",
        "        #'word[-2:]='+ word[-2:],\n",
        "        #'word.isupper()='+ str(word.isupper()),\n",
        "        #'word.istitle()='+ str(word.istitle()),\n",
        "        #'word.isdigit()='+ str(word.isdigit()),\n",
        "        #'postag[:2]='+ postag[:2],\n",
        "    ]\n",
        "    if i > 0: # if not BOS, check previous word\n",
        "        word1 = sent[i-1][0]\n",
        "        postag1 = sent[i-1][1]\n",
        "        features.extend([\n",
        "            '-1:postag=' + postag1,\n",
        "            #'-1:word.lower()='+ word1.lower(),\n",
        "            #'-1:word.istitle()='+ str(word1.istitle()),\n",
        "            #'-1:word.isupper()='+ str(word1.isupper()),\n",
        "            #'-1:postag[:2]='+postag1[:2],\n",
        "        ])\n",
        "    else:\n",
        "        features.append('BOS')  # beginning of statement\n",
        "        \n",
        "    if i < len(sent)-1:  # if not EOS, check next word\n",
        "        word2 = sent[i+1][0]\n",
        "        postag2 = sent[i+1][1]\n",
        "        features.extend([\n",
        "            '+1:postag=' + postag2,\n",
        "            #'+1:word.lower()='+ word2.lower(),\n",
        "            #'+1:word.istitle()='+ str(word2.istitle()),\n",
        "            #'+1:word.isupper()='+ str(word2.isupper()),\n",
        "            #'+1:postag[:2]='+ postag2[:2],\n",
        "        ])\n",
        "    else:\n",
        "        features.append('EOS')\n",
        "                \n",
        "    return features\n",
        "\n",
        "\n",
        "def sent2features(sent):\n",
        "    return [word2features(sent, i) for i in range(len(sent))]\n",
        "\n",
        "def sent2labels(sent):\n",
        "    return [label for token, postag, label in sent]\n",
        "\n",
        "def sent2tokens(sent):\n",
        "    return [token for token, postag, label in sent]"
      ],
      "execution_count": null,
      "outputs": []
    },
    {
      "cell_type": "markdown",
      "metadata": {
        "id": "l0UCMoqBmvPL"
      },
      "source": [
        "Note the features for one of the sentence - 'To be completely fair, the only redeeming factor was the food which was above average, but couldn't make up for all the other deficiencies of Teodora'. The POS tags (before and after are used as features)."
      ]
    },
    {
      "cell_type": "code",
      "metadata": {
        "colab": {
          "base_uri": "https://localhost:8080/",
          "height": 990
        },
        "id": "2-9QuhBomvPM",
        "outputId": "40e52a23-26f1-4ba9-e705-37abe583cad0"
      },
      "source": [
        "# data before feature extraction, changed to dataframe for easy printing.\n",
        "df_1 = pd.DataFrame(train_sents[1], columns=[\"Word\",\"POS\",\"Entity or Aspect Tag\"])\n",
        "\n",
        "df_1\n"
      ],
      "execution_count": null,
      "outputs": [
        {
          "output_type": "execute_result",
          "data": {
            "text/plain": [
              "            Word  POS Entity or Aspect Tag\n",
              "0             To   TO                    O\n",
              "1             be   VB                    O\n",
              "2     completely   RB                    O\n",
              "3           fair   JJ                    O\n",
              "4              ,    ,                    O\n",
              "5            the   DT                    O\n",
              "6           only   JJ                    O\n",
              "7      redeeming   NN                    O\n",
              "8         factor   NN                    O\n",
              "9            was  VBD                    O\n",
              "10           the   DT                    O\n",
              "11          food   NN                  B-A\n",
              "12             ,    ,                    O\n",
              "13         which  WDT                    O\n",
              "14           was  VBD                    O\n",
              "15         above   IN                    O\n",
              "16       average   NN                    O\n",
              "17             ,    ,                    O\n",
              "18           but   CC                    O\n",
              "19      couldn't  NNS                    O\n",
              "20          make  VBP                    O\n",
              "21            up   RP                    O\n",
              "22           for   IN                    O\n",
              "23           all  PDT                    O\n",
              "24           the   DT                    O\n",
              "25         other   JJ                    O\n",
              "26  deficiencies  NNS                    O\n",
              "27            of   IN                    O\n",
              "28       Teodora  NNP                    O\n",
              "29             .    .                    O"
            ],
            "text/html": [
              "\n",
              "  <div id=\"df-dec679c0-9022-43c6-9ed8-aa2c111a825f\">\n",
              "    <div class=\"colab-df-container\">\n",
              "      <div>\n",
              "<style scoped>\n",
              "    .dataframe tbody tr th:only-of-type {\n",
              "        vertical-align: middle;\n",
              "    }\n",
              "\n",
              "    .dataframe tbody tr th {\n",
              "        vertical-align: top;\n",
              "    }\n",
              "\n",
              "    .dataframe thead th {\n",
              "        text-align: right;\n",
              "    }\n",
              "</style>\n",
              "<table border=\"1\" class=\"dataframe\">\n",
              "  <thead>\n",
              "    <tr style=\"text-align: right;\">\n",
              "      <th></th>\n",
              "      <th>Word</th>\n",
              "      <th>POS</th>\n",
              "      <th>Entity or Aspect Tag</th>\n",
              "    </tr>\n",
              "  </thead>\n",
              "  <tbody>\n",
              "    <tr>\n",
              "      <th>0</th>\n",
              "      <td>To</td>\n",
              "      <td>TO</td>\n",
              "      <td>O</td>\n",
              "    </tr>\n",
              "    <tr>\n",
              "      <th>1</th>\n",
              "      <td>be</td>\n",
              "      <td>VB</td>\n",
              "      <td>O</td>\n",
              "    </tr>\n",
              "    <tr>\n",
              "      <th>2</th>\n",
              "      <td>completely</td>\n",
              "      <td>RB</td>\n",
              "      <td>O</td>\n",
              "    </tr>\n",
              "    <tr>\n",
              "      <th>3</th>\n",
              "      <td>fair</td>\n",
              "      <td>JJ</td>\n",
              "      <td>O</td>\n",
              "    </tr>\n",
              "    <tr>\n",
              "      <th>4</th>\n",
              "      <td>,</td>\n",
              "      <td>,</td>\n",
              "      <td>O</td>\n",
              "    </tr>\n",
              "    <tr>\n",
              "      <th>5</th>\n",
              "      <td>the</td>\n",
              "      <td>DT</td>\n",
              "      <td>O</td>\n",
              "    </tr>\n",
              "    <tr>\n",
              "      <th>6</th>\n",
              "      <td>only</td>\n",
              "      <td>JJ</td>\n",
              "      <td>O</td>\n",
              "    </tr>\n",
              "    <tr>\n",
              "      <th>7</th>\n",
              "      <td>redeeming</td>\n",
              "      <td>NN</td>\n",
              "      <td>O</td>\n",
              "    </tr>\n",
              "    <tr>\n",
              "      <th>8</th>\n",
              "      <td>factor</td>\n",
              "      <td>NN</td>\n",
              "      <td>O</td>\n",
              "    </tr>\n",
              "    <tr>\n",
              "      <th>9</th>\n",
              "      <td>was</td>\n",
              "      <td>VBD</td>\n",
              "      <td>O</td>\n",
              "    </tr>\n",
              "    <tr>\n",
              "      <th>10</th>\n",
              "      <td>the</td>\n",
              "      <td>DT</td>\n",
              "      <td>O</td>\n",
              "    </tr>\n",
              "    <tr>\n",
              "      <th>11</th>\n",
              "      <td>food</td>\n",
              "      <td>NN</td>\n",
              "      <td>B-A</td>\n",
              "    </tr>\n",
              "    <tr>\n",
              "      <th>12</th>\n",
              "      <td>,</td>\n",
              "      <td>,</td>\n",
              "      <td>O</td>\n",
              "    </tr>\n",
              "    <tr>\n",
              "      <th>13</th>\n",
              "      <td>which</td>\n",
              "      <td>WDT</td>\n",
              "      <td>O</td>\n",
              "    </tr>\n",
              "    <tr>\n",
              "      <th>14</th>\n",
              "      <td>was</td>\n",
              "      <td>VBD</td>\n",
              "      <td>O</td>\n",
              "    </tr>\n",
              "    <tr>\n",
              "      <th>15</th>\n",
              "      <td>above</td>\n",
              "      <td>IN</td>\n",
              "      <td>O</td>\n",
              "    </tr>\n",
              "    <tr>\n",
              "      <th>16</th>\n",
              "      <td>average</td>\n",
              "      <td>NN</td>\n",
              "      <td>O</td>\n",
              "    </tr>\n",
              "    <tr>\n",
              "      <th>17</th>\n",
              "      <td>,</td>\n",
              "      <td>,</td>\n",
              "      <td>O</td>\n",
              "    </tr>\n",
              "    <tr>\n",
              "      <th>18</th>\n",
              "      <td>but</td>\n",
              "      <td>CC</td>\n",
              "      <td>O</td>\n",
              "    </tr>\n",
              "    <tr>\n",
              "      <th>19</th>\n",
              "      <td>couldn't</td>\n",
              "      <td>NNS</td>\n",
              "      <td>O</td>\n",
              "    </tr>\n",
              "    <tr>\n",
              "      <th>20</th>\n",
              "      <td>make</td>\n",
              "      <td>VBP</td>\n",
              "      <td>O</td>\n",
              "    </tr>\n",
              "    <tr>\n",
              "      <th>21</th>\n",
              "      <td>up</td>\n",
              "      <td>RP</td>\n",
              "      <td>O</td>\n",
              "    </tr>\n",
              "    <tr>\n",
              "      <th>22</th>\n",
              "      <td>for</td>\n",
              "      <td>IN</td>\n",
              "      <td>O</td>\n",
              "    </tr>\n",
              "    <tr>\n",
              "      <th>23</th>\n",
              "      <td>all</td>\n",
              "      <td>PDT</td>\n",
              "      <td>O</td>\n",
              "    </tr>\n",
              "    <tr>\n",
              "      <th>24</th>\n",
              "      <td>the</td>\n",
              "      <td>DT</td>\n",
              "      <td>O</td>\n",
              "    </tr>\n",
              "    <tr>\n",
              "      <th>25</th>\n",
              "      <td>other</td>\n",
              "      <td>JJ</td>\n",
              "      <td>O</td>\n",
              "    </tr>\n",
              "    <tr>\n",
              "      <th>26</th>\n",
              "      <td>deficiencies</td>\n",
              "      <td>NNS</td>\n",
              "      <td>O</td>\n",
              "    </tr>\n",
              "    <tr>\n",
              "      <th>27</th>\n",
              "      <td>of</td>\n",
              "      <td>IN</td>\n",
              "      <td>O</td>\n",
              "    </tr>\n",
              "    <tr>\n",
              "      <th>28</th>\n",
              "      <td>Teodora</td>\n",
              "      <td>NNP</td>\n",
              "      <td>O</td>\n",
              "    </tr>\n",
              "    <tr>\n",
              "      <th>29</th>\n",
              "      <td>.</td>\n",
              "      <td>.</td>\n",
              "      <td>O</td>\n",
              "    </tr>\n",
              "  </tbody>\n",
              "</table>\n",
              "</div>\n",
              "      <button class=\"colab-df-convert\" onclick=\"convertToInteractive('df-dec679c0-9022-43c6-9ed8-aa2c111a825f')\"\n",
              "              title=\"Convert this dataframe to an interactive table.\"\n",
              "              style=\"display:none;\">\n",
              "        \n",
              "  <svg xmlns=\"http://www.w3.org/2000/svg\" height=\"24px\"viewBox=\"0 0 24 24\"\n",
              "       width=\"24px\">\n",
              "    <path d=\"M0 0h24v24H0V0z\" fill=\"none\"/>\n",
              "    <path d=\"M18.56 5.44l.94 2.06.94-2.06 2.06-.94-2.06-.94-.94-2.06-.94 2.06-2.06.94zm-11 1L8.5 8.5l.94-2.06 2.06-.94-2.06-.94L8.5 2.5l-.94 2.06-2.06.94zm10 10l.94 2.06.94-2.06 2.06-.94-2.06-.94-.94-2.06-.94 2.06-2.06.94z\"/><path d=\"M17.41 7.96l-1.37-1.37c-.4-.4-.92-.59-1.43-.59-.52 0-1.04.2-1.43.59L10.3 9.45l-7.72 7.72c-.78.78-.78 2.05 0 2.83L4 21.41c.39.39.9.59 1.41.59.51 0 1.02-.2 1.41-.59l7.78-7.78 2.81-2.81c.8-.78.8-2.07 0-2.86zM5.41 20L4 18.59l7.72-7.72 1.47 1.35L5.41 20z\"/>\n",
              "  </svg>\n",
              "      </button>\n",
              "      \n",
              "  <style>\n",
              "    .colab-df-container {\n",
              "      display:flex;\n",
              "      flex-wrap:wrap;\n",
              "      gap: 12px;\n",
              "    }\n",
              "\n",
              "    .colab-df-convert {\n",
              "      background-color: #E8F0FE;\n",
              "      border: none;\n",
              "      border-radius: 50%;\n",
              "      cursor: pointer;\n",
              "      display: none;\n",
              "      fill: #1967D2;\n",
              "      height: 32px;\n",
              "      padding: 0 0 0 0;\n",
              "      width: 32px;\n",
              "    }\n",
              "\n",
              "    .colab-df-convert:hover {\n",
              "      background-color: #E2EBFA;\n",
              "      box-shadow: 0px 1px 2px rgba(60, 64, 67, 0.3), 0px 1px 3px 1px rgba(60, 64, 67, 0.15);\n",
              "      fill: #174EA6;\n",
              "    }\n",
              "\n",
              "    [theme=dark] .colab-df-convert {\n",
              "      background-color: #3B4455;\n",
              "      fill: #D2E3FC;\n",
              "    }\n",
              "\n",
              "    [theme=dark] .colab-df-convert:hover {\n",
              "      background-color: #434B5C;\n",
              "      box-shadow: 0px 1px 3px 1px rgba(0, 0, 0, 0.15);\n",
              "      filter: drop-shadow(0px 1px 2px rgba(0, 0, 0, 0.3));\n",
              "      fill: #FFFFFF;\n",
              "    }\n",
              "  </style>\n",
              "\n",
              "      <script>\n",
              "        const buttonEl =\n",
              "          document.querySelector('#df-dec679c0-9022-43c6-9ed8-aa2c111a825f button.colab-df-convert');\n",
              "        buttonEl.style.display =\n",
              "          google.colab.kernel.accessAllowed ? 'block' : 'none';\n",
              "\n",
              "        async function convertToInteractive(key) {\n",
              "          const element = document.querySelector('#df-dec679c0-9022-43c6-9ed8-aa2c111a825f');\n",
              "          const dataTable =\n",
              "            await google.colab.kernel.invokeFunction('convertToInteractive',\n",
              "                                                     [key], {});\n",
              "          if (!dataTable) return;\n",
              "\n",
              "          const docLinkHtml = 'Like what you see? Visit the ' +\n",
              "            '<a target=\"_blank\" href=https://colab.research.google.com/notebooks/data_table.ipynb>data table notebook</a>'\n",
              "            + ' to learn more about interactive tables.';\n",
              "          element.innerHTML = '';\n",
              "          dataTable['output_type'] = 'display_data';\n",
              "          await google.colab.output.renderOutput(dataTable, element);\n",
              "          const docLink = document.createElement('div');\n",
              "          docLink.innerHTML = docLinkHtml;\n",
              "          element.appendChild(docLink);\n",
              "        }\n",
              "      </script>\n",
              "    </div>\n",
              "  </div>\n",
              "  "
            ]
          },
          "metadata": {},
          "execution_count": 33
        }
      ]
    },
    {
      "cell_type": "code",
      "metadata": {
        "colab": {
          "base_uri": "https://localhost:8080/",
          "height": 990
        },
        "id": "LtgOJl6TmvPM",
        "outputId": "3b17e87b-16ef-46e6-8455-6ce201de5a63"
      },
      "source": [
        "# To observe how the training set looks like after feature extraction\n",
        "df_2 = pd.DataFrame(sent2features(train_sents[1]), columns=[\"Bias constant\",\"POS\", \"POS Before\",\"POS after\" ])\n",
        "df_2"
      ],
      "execution_count": null,
      "outputs": [
        {
          "output_type": "execute_result",
          "data": {
            "text/plain": [
              "   Bias constant         POS     POS Before      POS after\n",
              "0           bias   postag=TO            BOS   +1:postag=VB\n",
              "1           bias   postag=VB   -1:postag=TO   +1:postag=RB\n",
              "2           bias   postag=RB   -1:postag=VB   +1:postag=JJ\n",
              "3           bias   postag=JJ   -1:postag=RB    +1:postag=,\n",
              "4           bias    postag=,   -1:postag=JJ   +1:postag=DT\n",
              "5           bias   postag=DT    -1:postag=,   +1:postag=JJ\n",
              "6           bias   postag=JJ   -1:postag=DT   +1:postag=NN\n",
              "7           bias   postag=NN   -1:postag=JJ   +1:postag=NN\n",
              "8           bias   postag=NN   -1:postag=NN  +1:postag=VBD\n",
              "9           bias  postag=VBD   -1:postag=NN   +1:postag=DT\n",
              "10          bias   postag=DT  -1:postag=VBD   +1:postag=NN\n",
              "11          bias   postag=NN   -1:postag=DT    +1:postag=,\n",
              "12          bias    postag=,   -1:postag=NN  +1:postag=WDT\n",
              "13          bias  postag=WDT    -1:postag=,  +1:postag=VBD\n",
              "14          bias  postag=VBD  -1:postag=WDT   +1:postag=IN\n",
              "15          bias   postag=IN  -1:postag=VBD   +1:postag=NN\n",
              "16          bias   postag=NN   -1:postag=IN    +1:postag=,\n",
              "17          bias    postag=,   -1:postag=NN   +1:postag=CC\n",
              "18          bias   postag=CC    -1:postag=,  +1:postag=NNS\n",
              "19          bias  postag=NNS   -1:postag=CC  +1:postag=VBP\n",
              "20          bias  postag=VBP  -1:postag=NNS   +1:postag=RP\n",
              "21          bias   postag=RP  -1:postag=VBP   +1:postag=IN\n",
              "22          bias   postag=IN   -1:postag=RP  +1:postag=PDT\n",
              "23          bias  postag=PDT   -1:postag=IN   +1:postag=DT\n",
              "24          bias   postag=DT  -1:postag=PDT   +1:postag=JJ\n",
              "25          bias   postag=JJ   -1:postag=DT  +1:postag=NNS\n",
              "26          bias  postag=NNS   -1:postag=JJ   +1:postag=IN\n",
              "27          bias   postag=IN  -1:postag=NNS  +1:postag=NNP\n",
              "28          bias  postag=NNP   -1:postag=IN    +1:postag=.\n",
              "29          bias    postag=.  -1:postag=NNP            EOS"
            ],
            "text/html": [
              "\n",
              "  <div id=\"df-5a5c0a57-c066-43ef-91e9-7c14ab86f3ab\">\n",
              "    <div class=\"colab-df-container\">\n",
              "      <div>\n",
              "<style scoped>\n",
              "    .dataframe tbody tr th:only-of-type {\n",
              "        vertical-align: middle;\n",
              "    }\n",
              "\n",
              "    .dataframe tbody tr th {\n",
              "        vertical-align: top;\n",
              "    }\n",
              "\n",
              "    .dataframe thead th {\n",
              "        text-align: right;\n",
              "    }\n",
              "</style>\n",
              "<table border=\"1\" class=\"dataframe\">\n",
              "  <thead>\n",
              "    <tr style=\"text-align: right;\">\n",
              "      <th></th>\n",
              "      <th>Bias constant</th>\n",
              "      <th>POS</th>\n",
              "      <th>POS Before</th>\n",
              "      <th>POS after</th>\n",
              "    </tr>\n",
              "  </thead>\n",
              "  <tbody>\n",
              "    <tr>\n",
              "      <th>0</th>\n",
              "      <td>bias</td>\n",
              "      <td>postag=TO</td>\n",
              "      <td>BOS</td>\n",
              "      <td>+1:postag=VB</td>\n",
              "    </tr>\n",
              "    <tr>\n",
              "      <th>1</th>\n",
              "      <td>bias</td>\n",
              "      <td>postag=VB</td>\n",
              "      <td>-1:postag=TO</td>\n",
              "      <td>+1:postag=RB</td>\n",
              "    </tr>\n",
              "    <tr>\n",
              "      <th>2</th>\n",
              "      <td>bias</td>\n",
              "      <td>postag=RB</td>\n",
              "      <td>-1:postag=VB</td>\n",
              "      <td>+1:postag=JJ</td>\n",
              "    </tr>\n",
              "    <tr>\n",
              "      <th>3</th>\n",
              "      <td>bias</td>\n",
              "      <td>postag=JJ</td>\n",
              "      <td>-1:postag=RB</td>\n",
              "      <td>+1:postag=,</td>\n",
              "    </tr>\n",
              "    <tr>\n",
              "      <th>4</th>\n",
              "      <td>bias</td>\n",
              "      <td>postag=,</td>\n",
              "      <td>-1:postag=JJ</td>\n",
              "      <td>+1:postag=DT</td>\n",
              "    </tr>\n",
              "    <tr>\n",
              "      <th>5</th>\n",
              "      <td>bias</td>\n",
              "      <td>postag=DT</td>\n",
              "      <td>-1:postag=,</td>\n",
              "      <td>+1:postag=JJ</td>\n",
              "    </tr>\n",
              "    <tr>\n",
              "      <th>6</th>\n",
              "      <td>bias</td>\n",
              "      <td>postag=JJ</td>\n",
              "      <td>-1:postag=DT</td>\n",
              "      <td>+1:postag=NN</td>\n",
              "    </tr>\n",
              "    <tr>\n",
              "      <th>7</th>\n",
              "      <td>bias</td>\n",
              "      <td>postag=NN</td>\n",
              "      <td>-1:postag=JJ</td>\n",
              "      <td>+1:postag=NN</td>\n",
              "    </tr>\n",
              "    <tr>\n",
              "      <th>8</th>\n",
              "      <td>bias</td>\n",
              "      <td>postag=NN</td>\n",
              "      <td>-1:postag=NN</td>\n",
              "      <td>+1:postag=VBD</td>\n",
              "    </tr>\n",
              "    <tr>\n",
              "      <th>9</th>\n",
              "      <td>bias</td>\n",
              "      <td>postag=VBD</td>\n",
              "      <td>-1:postag=NN</td>\n",
              "      <td>+1:postag=DT</td>\n",
              "    </tr>\n",
              "    <tr>\n",
              "      <th>10</th>\n",
              "      <td>bias</td>\n",
              "      <td>postag=DT</td>\n",
              "      <td>-1:postag=VBD</td>\n",
              "      <td>+1:postag=NN</td>\n",
              "    </tr>\n",
              "    <tr>\n",
              "      <th>11</th>\n",
              "      <td>bias</td>\n",
              "      <td>postag=NN</td>\n",
              "      <td>-1:postag=DT</td>\n",
              "      <td>+1:postag=,</td>\n",
              "    </tr>\n",
              "    <tr>\n",
              "      <th>12</th>\n",
              "      <td>bias</td>\n",
              "      <td>postag=,</td>\n",
              "      <td>-1:postag=NN</td>\n",
              "      <td>+1:postag=WDT</td>\n",
              "    </tr>\n",
              "    <tr>\n",
              "      <th>13</th>\n",
              "      <td>bias</td>\n",
              "      <td>postag=WDT</td>\n",
              "      <td>-1:postag=,</td>\n",
              "      <td>+1:postag=VBD</td>\n",
              "    </tr>\n",
              "    <tr>\n",
              "      <th>14</th>\n",
              "      <td>bias</td>\n",
              "      <td>postag=VBD</td>\n",
              "      <td>-1:postag=WDT</td>\n",
              "      <td>+1:postag=IN</td>\n",
              "    </tr>\n",
              "    <tr>\n",
              "      <th>15</th>\n",
              "      <td>bias</td>\n",
              "      <td>postag=IN</td>\n",
              "      <td>-1:postag=VBD</td>\n",
              "      <td>+1:postag=NN</td>\n",
              "    </tr>\n",
              "    <tr>\n",
              "      <th>16</th>\n",
              "      <td>bias</td>\n",
              "      <td>postag=NN</td>\n",
              "      <td>-1:postag=IN</td>\n",
              "      <td>+1:postag=,</td>\n",
              "    </tr>\n",
              "    <tr>\n",
              "      <th>17</th>\n",
              "      <td>bias</td>\n",
              "      <td>postag=,</td>\n",
              "      <td>-1:postag=NN</td>\n",
              "      <td>+1:postag=CC</td>\n",
              "    </tr>\n",
              "    <tr>\n",
              "      <th>18</th>\n",
              "      <td>bias</td>\n",
              "      <td>postag=CC</td>\n",
              "      <td>-1:postag=,</td>\n",
              "      <td>+1:postag=NNS</td>\n",
              "    </tr>\n",
              "    <tr>\n",
              "      <th>19</th>\n",
              "      <td>bias</td>\n",
              "      <td>postag=NNS</td>\n",
              "      <td>-1:postag=CC</td>\n",
              "      <td>+1:postag=VBP</td>\n",
              "    </tr>\n",
              "    <tr>\n",
              "      <th>20</th>\n",
              "      <td>bias</td>\n",
              "      <td>postag=VBP</td>\n",
              "      <td>-1:postag=NNS</td>\n",
              "      <td>+1:postag=RP</td>\n",
              "    </tr>\n",
              "    <tr>\n",
              "      <th>21</th>\n",
              "      <td>bias</td>\n",
              "      <td>postag=RP</td>\n",
              "      <td>-1:postag=VBP</td>\n",
              "      <td>+1:postag=IN</td>\n",
              "    </tr>\n",
              "    <tr>\n",
              "      <th>22</th>\n",
              "      <td>bias</td>\n",
              "      <td>postag=IN</td>\n",
              "      <td>-1:postag=RP</td>\n",
              "      <td>+1:postag=PDT</td>\n",
              "    </tr>\n",
              "    <tr>\n",
              "      <th>23</th>\n",
              "      <td>bias</td>\n",
              "      <td>postag=PDT</td>\n",
              "      <td>-1:postag=IN</td>\n",
              "      <td>+1:postag=DT</td>\n",
              "    </tr>\n",
              "    <tr>\n",
              "      <th>24</th>\n",
              "      <td>bias</td>\n",
              "      <td>postag=DT</td>\n",
              "      <td>-1:postag=PDT</td>\n",
              "      <td>+1:postag=JJ</td>\n",
              "    </tr>\n",
              "    <tr>\n",
              "      <th>25</th>\n",
              "      <td>bias</td>\n",
              "      <td>postag=JJ</td>\n",
              "      <td>-1:postag=DT</td>\n",
              "      <td>+1:postag=NNS</td>\n",
              "    </tr>\n",
              "    <tr>\n",
              "      <th>26</th>\n",
              "      <td>bias</td>\n",
              "      <td>postag=NNS</td>\n",
              "      <td>-1:postag=JJ</td>\n",
              "      <td>+1:postag=IN</td>\n",
              "    </tr>\n",
              "    <tr>\n",
              "      <th>27</th>\n",
              "      <td>bias</td>\n",
              "      <td>postag=IN</td>\n",
              "      <td>-1:postag=NNS</td>\n",
              "      <td>+1:postag=NNP</td>\n",
              "    </tr>\n",
              "    <tr>\n",
              "      <th>28</th>\n",
              "      <td>bias</td>\n",
              "      <td>postag=NNP</td>\n",
              "      <td>-1:postag=IN</td>\n",
              "      <td>+1:postag=.</td>\n",
              "    </tr>\n",
              "    <tr>\n",
              "      <th>29</th>\n",
              "      <td>bias</td>\n",
              "      <td>postag=.</td>\n",
              "      <td>-1:postag=NNP</td>\n",
              "      <td>EOS</td>\n",
              "    </tr>\n",
              "  </tbody>\n",
              "</table>\n",
              "</div>\n",
              "      <button class=\"colab-df-convert\" onclick=\"convertToInteractive('df-5a5c0a57-c066-43ef-91e9-7c14ab86f3ab')\"\n",
              "              title=\"Convert this dataframe to an interactive table.\"\n",
              "              style=\"display:none;\">\n",
              "        \n",
              "  <svg xmlns=\"http://www.w3.org/2000/svg\" height=\"24px\"viewBox=\"0 0 24 24\"\n",
              "       width=\"24px\">\n",
              "    <path d=\"M0 0h24v24H0V0z\" fill=\"none\"/>\n",
              "    <path d=\"M18.56 5.44l.94 2.06.94-2.06 2.06-.94-2.06-.94-.94-2.06-.94 2.06-2.06.94zm-11 1L8.5 8.5l.94-2.06 2.06-.94-2.06-.94L8.5 2.5l-.94 2.06-2.06.94zm10 10l.94 2.06.94-2.06 2.06-.94-2.06-.94-.94-2.06-.94 2.06-2.06.94z\"/><path d=\"M17.41 7.96l-1.37-1.37c-.4-.4-.92-.59-1.43-.59-.52 0-1.04.2-1.43.59L10.3 9.45l-7.72 7.72c-.78.78-.78 2.05 0 2.83L4 21.41c.39.39.9.59 1.41.59.51 0 1.02-.2 1.41-.59l7.78-7.78 2.81-2.81c.8-.78.8-2.07 0-2.86zM5.41 20L4 18.59l7.72-7.72 1.47 1.35L5.41 20z\"/>\n",
              "  </svg>\n",
              "      </button>\n",
              "      \n",
              "  <style>\n",
              "    .colab-df-container {\n",
              "      display:flex;\n",
              "      flex-wrap:wrap;\n",
              "      gap: 12px;\n",
              "    }\n",
              "\n",
              "    .colab-df-convert {\n",
              "      background-color: #E8F0FE;\n",
              "      border: none;\n",
              "      border-radius: 50%;\n",
              "      cursor: pointer;\n",
              "      display: none;\n",
              "      fill: #1967D2;\n",
              "      height: 32px;\n",
              "      padding: 0 0 0 0;\n",
              "      width: 32px;\n",
              "    }\n",
              "\n",
              "    .colab-df-convert:hover {\n",
              "      background-color: #E2EBFA;\n",
              "      box-shadow: 0px 1px 2px rgba(60, 64, 67, 0.3), 0px 1px 3px 1px rgba(60, 64, 67, 0.15);\n",
              "      fill: #174EA6;\n",
              "    }\n",
              "\n",
              "    [theme=dark] .colab-df-convert {\n",
              "      background-color: #3B4455;\n",
              "      fill: #D2E3FC;\n",
              "    }\n",
              "\n",
              "    [theme=dark] .colab-df-convert:hover {\n",
              "      background-color: #434B5C;\n",
              "      box-shadow: 0px 1px 3px 1px rgba(0, 0, 0, 0.15);\n",
              "      filter: drop-shadow(0px 1px 2px rgba(0, 0, 0, 0.3));\n",
              "      fill: #FFFFFF;\n",
              "    }\n",
              "  </style>\n",
              "\n",
              "      <script>\n",
              "        const buttonEl =\n",
              "          document.querySelector('#df-5a5c0a57-c066-43ef-91e9-7c14ab86f3ab button.colab-df-convert');\n",
              "        buttonEl.style.display =\n",
              "          google.colab.kernel.accessAllowed ? 'block' : 'none';\n",
              "\n",
              "        async function convertToInteractive(key) {\n",
              "          const element = document.querySelector('#df-5a5c0a57-c066-43ef-91e9-7c14ab86f3ab');\n",
              "          const dataTable =\n",
              "            await google.colab.kernel.invokeFunction('convertToInteractive',\n",
              "                                                     [key], {});\n",
              "          if (!dataTable) return;\n",
              "\n",
              "          const docLinkHtml = 'Like what you see? Visit the ' +\n",
              "            '<a target=\"_blank\" href=https://colab.research.google.com/notebooks/data_table.ipynb>data table notebook</a>'\n",
              "            + ' to learn more about interactive tables.';\n",
              "          element.innerHTML = '';\n",
              "          dataTable['output_type'] = 'display_data';\n",
              "          await google.colab.output.renderOutput(dataTable, element);\n",
              "          const docLink = document.createElement('div');\n",
              "          docLink.innerHTML = docLinkHtml;\n",
              "          element.appendChild(docLink);\n",
              "        }\n",
              "      </script>\n",
              "    </div>\n",
              "  </div>\n",
              "  "
            ]
          },
          "metadata": {},
          "execution_count": 34
        }
      ]
    },
    {
      "cell_type": "code",
      "metadata": {
        "colab": {
          "base_uri": "https://localhost:8080/"
        },
        "id": "k7Ns9FBomvPN",
        "outputId": "b9a1d0c8-d1d3-4c6f-ac7c-84f5eb1c2a4a"
      },
      "source": [
        "#now process the inputs and outputs for both train set and test set.\n",
        "%%time\n",
        "X_train = [sent2features(s) for s in train_sents]\n",
        "y_train = [sent2labels(s) for s in train_sents]\n",
        "\n",
        "X_test = [sent2features(s) for s in test_sents]\n",
        "y_test = [sent2labels(s) for s in test_sents]"
      ],
      "execution_count": null,
      "outputs": [
        {
          "output_type": "stream",
          "name": "stdout",
          "text": [
            "CPU times: user 223 ms, sys: 14 ms, total: 237 ms\n",
            "Wall time: 239 ms\n"
          ]
        }
      ]
    },
    {
      "cell_type": "markdown",
      "source": [
        "#Train and use the CRF model\n",
        "\n",
        "Create a Trainer and load the train set data."
      ],
      "metadata": {
        "id": "RGlXRw64Rjba"
      }
    },
    {
      "cell_type": "code",
      "metadata": {
        "id": "6q6xKkP5mvPN"
      },
      "source": [
        "trainer = pycrfsuite.Trainer(verbose=False)\n",
        "\n",
        "for xseq, yseq in zip(X_train, y_train):\n",
        "    trainer.append(xseq, yseq)"
      ],
      "execution_count": null,
      "outputs": []
    },
    {
      "cell_type": "code",
      "metadata": {
        "id": "0w4AOp8qmvPO"
      },
      "source": [
        "\n",
        "trainer.set_params({\n",
        "    'c1': 1.0,   # coefficient for L1 penalty\n",
        "    'c2': 1e-3,  # coefficient for L2 penalty\n",
        "    'max_iterations': 50,  # stop earlier\n",
        "\n",
        "    # include transitions that are possible, but not observed\n",
        "    'feature.possible_transitions': True\n",
        "})"
      ],
      "execution_count": null,
      "outputs": []
    },
    {
      "cell_type": "code",
      "metadata": {
        "colab": {
          "base_uri": "https://localhost:8080/"
        },
        "id": "ujOOqdNpmvPP",
        "outputId": "2c5fd2b7-54b2-4015-8d79-c42381a3de09"
      },
      "source": [
        "trainer.params()"
      ],
      "execution_count": null,
      "outputs": [
        {
          "output_type": "execute_result",
          "data": {
            "text/plain": [
              "['feature.minfreq',\n",
              " 'feature.possible_states',\n",
              " 'feature.possible_transitions',\n",
              " 'c1',\n",
              " 'c2',\n",
              " 'max_iterations',\n",
              " 'num_memories',\n",
              " 'epsilon',\n",
              " 'period',\n",
              " 'delta',\n",
              " 'linesearch',\n",
              " 'max_linesearch']"
            ]
          },
          "metadata": {},
          "execution_count": 17
        }
      ]
    },
    {
      "cell_type": "code",
      "metadata": {
        "colab": {
          "base_uri": "https://localhost:8080/"
        },
        "id": "zykScuttmvPP",
        "outputId": "f90a0a6c-f6be-48b1-83ca-e992052f4113"
      },
      "source": [
        "%%time\n",
        "# Train the model and save the trained CRF model. \n",
        "trainer.train('CRF_ABSA.crfsuite')"
      ],
      "execution_count": null,
      "outputs": [
        {
          "output_type": "stream",
          "name": "stdout",
          "text": [
            "CPU times: user 877 ms, sys: 4.18 ms, total: 881 ms\n",
            "Wall time: 884 ms\n"
          ]
        }
      ]
    },
    {
      "cell_type": "code",
      "metadata": {
        "colab": {
          "base_uri": "https://localhost:8080/"
        },
        "id": "65QIM-AqmvPQ",
        "outputId": "8889fda1-2f54-4a09-bf0d-bf2a1c70aed1"
      },
      "source": [
        "# the final state of the model\n",
        "trainer.logparser.last_iteration"
      ],
      "execution_count": null,
      "outputs": [
        {
          "output_type": "execute_result",
          "data": {
            "text/plain": [
              "{'active_features': 244,\n",
              " 'error_norm': 126.872569,\n",
              " 'feature_norm': 17.409161,\n",
              " 'linesearch_step': 1.0,\n",
              " 'linesearch_trials': 1,\n",
              " 'loss': 8229.181667,\n",
              " 'num': 50,\n",
              " 'scores': {},\n",
              " 'time': 0.014}"
            ]
          },
          "metadata": {},
          "execution_count": 19
        }
      ]
    },
    {
      "cell_type": "code",
      "metadata": {
        "colab": {
          "base_uri": "https://localhost:8080/"
        },
        "id": "g6UScDVImvPR",
        "outputId": "6955e3b4-2b66-42d5-a795-5bb944edea4f"
      },
      "source": [
        "# create a Tagger to use the trained model\n",
        "tagger = pycrfsuite.Tagger()\n",
        "tagger.open('CRF_ABSA.crfsuite')"
      ],
      "execution_count": null,
      "outputs": [
        {
          "output_type": "execute_result",
          "data": {
            "text/plain": [
              "<contextlib.closing at 0x7f30abc9be90>"
            ]
          },
          "metadata": {},
          "execution_count": 20
        }
      ]
    },
    {
      "cell_type": "code",
      "metadata": {
        "colab": {
          "base_uri": "https://localhost:8080/"
        },
        "id": "wd_WxdlFmvPR",
        "outputId": "5312a2c4-da53-48d3-b3b6-63ebc6dc4f58"
      },
      "source": [
        "# call tag() to tag a sentence. Let's try it on one test sentence\n",
        "example_sent = test_sents[6]\n",
        "print(' '.join(sent2tokens(example_sent)), end='\\n\\n')\n",
        "\n",
        "print(\"Predicted:\", ' '.join(tagger.tag(sent2features(example_sent))))\n",
        "print(\"Correct:  \", ' '.join(sent2labels(example_sent)))"
      ],
      "execution_count": null,
      "outputs": [
        {
          "output_type": "stream",
          "name": "stdout",
          "text": [
            "Straight-forward , no surprises , very decent Japanese food .\n",
            "\n",
            "Predicted: O O O B-A O O O O O O\n",
            "Correct:   O O O O O O O B-A I-A O\n"
          ]
        }
      ]
    },
    {
      "cell_type": "markdown",
      "source": [
        "# Evaluate the model\n",
        "Getting an overall accuracy is not meaningful as majority of the labels in data is 'O'. It's more helpful to look at the precision and recall for each tag - 'B-A' and 'I-A'."
      ],
      "metadata": {
        "id": "emJOwgSvWYAy"
      }
    },
    {
      "cell_type": "code",
      "metadata": {
        "id": "9sTJmXdkmvPR"
      },
      "source": [
        "def bio_classification_report(y_true, y_pred):\n",
        "    \"\"\"\n",
        "    Classification report for a list of BIO-encoded sequences.\n",
        "    It computes token-level metrics and discards \"O\" labels.\n",
        "    \n",
        "    Note that it requires scikit-learn 0.15+ (or a version from github master)\n",
        "    to calculate averages properly!\n",
        "    \"\"\"\n",
        "    lb = LabelBinarizer()\n",
        "    y_true_combined = lb.fit_transform(list(chain.from_iterable(y_true)))\n",
        "    y_pred_combined = lb.transform(list(chain.from_iterable(y_pred)))\n",
        "        \n",
        "    tagset = set(lb.classes_) - {'O'}\n",
        "    tagset = sorted(tagset, key=lambda tag: tag.split('-', 1)[::-1])\n",
        "    class_indices = {cls: idx for idx, cls in enumerate(lb.classes_)}\n",
        "    \n",
        "    return classification_report(\n",
        "        y_true_combined,\n",
        "        y_pred_combined,\n",
        "        labels = [class_indices[cls] for cls in tagset],\n",
        "        target_names = tagset,\n",
        "    )"
      ],
      "execution_count": null,
      "outputs": []
    },
    {
      "cell_type": "code",
      "metadata": {
        "colab": {
          "base_uri": "https://localhost:8080/"
        },
        "id": "N8jD2XUZmvPS",
        "outputId": "eddcdbef-c881-443e-8fe3-3a54d8146be7"
      },
      "source": [
        "%%time\n",
        "y_pred = [tagger.tag(xseq) for xseq in X_test]"
      ],
      "execution_count": null,
      "outputs": [
        {
          "output_type": "stream",
          "name": "stdout",
          "text": [
            "CPU times: user 32.5 ms, sys: 0 ns, total: 32.5 ms\n",
            "Wall time: 80.3 ms\n"
          ]
        }
      ]
    },
    {
      "cell_type": "code",
      "metadata": {
        "colab": {
          "base_uri": "https://localhost:8080/"
        },
        "id": "Dfyw9t9kmvPS",
        "outputId": "91889f89-5775-4eab-f59f-b746b2d4ec86"
      },
      "source": [
        "print(bio_classification_report(y_test, y_pred))"
      ],
      "execution_count": null,
      "outputs": [
        {
          "output_type": "stream",
          "name": "stdout",
          "text": [
            "              precision    recall  f1-score   support\n",
            "\n",
            "         B-A       0.63      0.36      0.46      1135\n",
            "         I-A       0.56      0.23      0.32       538\n",
            "\n",
            "   micro avg       0.61      0.32      0.42      1673\n",
            "   macro avg       0.59      0.30      0.39      1673\n",
            "weighted avg       0.60      0.32      0.42      1673\n",
            " samples avg       0.04      0.04      0.04      1673\n",
            "\n"
          ]
        },
        {
          "output_type": "stream",
          "name": "stderr",
          "text": [
            "/usr/local/lib/python3.7/dist-packages/sklearn/metrics/_classification.py:1318: UndefinedMetricWarning: Precision and F-score are ill-defined and being set to 0.0 in samples with no predicted labels. Use `zero_division` parameter to control this behavior.\n",
            "  _warn_prf(average, modifier, msg_start, len(result))\n",
            "/usr/local/lib/python3.7/dist-packages/sklearn/metrics/_classification.py:1318: UndefinedMetricWarning: Recall and F-score are ill-defined and being set to 0.0 in samples with no true labels. Use `zero_division` parameter to control this behavior.\n",
            "  _warn_prf(average, modifier, msg_start, len(result))\n"
          ]
        }
      ]
    },
    {
      "cell_type": "markdown",
      "metadata": {
        "id": "MpP8YH1KmvPS"
      },
      "source": [
        "#What has the model learned?\n",
        "We can check the probabilities of transition of the hidden states - some of which are more probable than others. The following example shows that B-A -> I-A is very likely (like in iPhone (B-A) size (I-A)). \n",
        "The transitions also show that there might be some errors in the data. Can you spot that?"
      ]
    },
    {
      "cell_type": "code",
      "metadata": {
        "colab": {
          "base_uri": "https://localhost:8080/"
        },
        "id": "OY2OOno2mvPS",
        "outputId": "a85f2f03-4dfd-4952-ed8e-cdb499f41c49"
      },
      "source": [
        "\n",
        "from collections import Counter\n",
        "info = tagger.info()\n",
        "\n",
        "def print_transitions(trans_features):\n",
        "    for (label_from, label_to), weight in trans_features:\n",
        "        print(\"%-6s -> %-7s %0.6f\" % (label_from, label_to, weight))\n",
        "\n",
        "print(\"Top likely transitions:\")\n",
        "print_transitions(Counter(info.transitions).most_common(8))\n",
        "\n",
        "print(\"\\nTop unlikely transitions:\")\n",
        "print_transitions(Counter(info.transitions).most_common()[-8:])"
      ],
      "execution_count": null,
      "outputs": [
        {
          "output_type": "stream",
          "name": "stdout",
          "text": [
            "Top likely transitions:\n",
            "I-A    -> I-A     1.720269\n",
            "B-A    -> I-A     1.234421\n",
            "O      -> O       1.213212\n",
            "O      -> B-A     0.304503\n",
            "B-A    -> O       -0.622497\n",
            "I-A    -> O       -1.054049\n",
            "I-A    -> B-A     -4.500151\n",
            "B-A    -> B-A     -5.729769\n",
            "\n",
            "Top unlikely transitions:\n",
            "B-A    -> I-A     1.234421\n",
            "O      -> O       1.213212\n",
            "O      -> B-A     0.304503\n",
            "B-A    -> O       -0.622497\n",
            "I-A    -> O       -1.054049\n",
            "I-A    -> B-A     -4.500151\n",
            "B-A    -> B-A     -5.729769\n",
            "O      -> I-A     -7.799991\n"
          ]
        }
      ]
    },
    {
      "cell_type": "markdown",
      "metadata": {
        "id": "S6i4oabqmvPT"
      },
      "source": [
        "We can also check which feature is the most (or least) corelated to tag entities or aspects. The top positive features for \"B-A\" are postag=NN or postag=NNS - that is if the word is a noun. "
      ]
    },
    {
      "cell_type": "code",
      "metadata": {
        "colab": {
          "base_uri": "https://localhost:8080/"
        },
        "id": "oBvLcpPNmvPT",
        "outputId": "e2e299c2-1e48-4b83-fd7f-eda1a991c824"
      },
      "source": [
        "def print_state_features(state_features):\n",
        "    for (attr, label), weight in state_features:\n",
        "        print(\"%0.6f %-6s %s\" % (weight, label, attr))    \n",
        "\n",
        "print(\"Top positive:\")\n",
        "print_state_features(Counter(info.state_features).most_common(20))\n",
        "\n",
        "print(\"\\nTop negative:\")\n",
        "print_state_features(Counter(info.state_features).most_common()[-20:])"
      ],
      "execution_count": null,
      "outputs": [
        {
          "output_type": "stream",
          "name": "stdout",
          "text": [
            "Top positive:\n",
            "5.041641 O      BOS\n",
            "4.443006 O      postag=.\n",
            "4.163987 B-A    BOS\n",
            "3.608665 O      postag=PRP\n",
            "3.367746 O      postag=,\n",
            "2.739086 O      postag=WDT\n",
            "2.076323 O      EOS\n",
            "1.826382 O      postag=WP\n",
            "1.641934 O      postag=JJS\n",
            "1.595854 B-A    postag=NNS\n",
            "1.485715 B-A    postag=NN\n",
            "1.445405 O      +1:postag=CD\n",
            "1.397235 O      postag=PRP$\n",
            "1.183854 O      postag=VBZ\n",
            "1.178977 O      postag=:\n",
            "1.172939 I-A    postag=NN\n",
            "1.168433 B-A    postag=VBN\n",
            "1.167737 B-A    postag=VBG\n",
            "1.150206 O      bias\n",
            "1.124446 I-A    +1:postag=VBZ\n",
            "\n",
            "Top negative:\n",
            "-0.618222 I-A    -1:postag=PRP$\n",
            "-0.646275 I-A    +1:postag=NNP\n",
            "-0.651469 O      +1:postag=,\n",
            "-0.694333 O      +1:postag=WDT\n",
            "-0.697250 O      postag=VB\n",
            "-0.737102 O      postag=SYM\n",
            "-0.750187 O      +1:postag=VBZ\n",
            "-0.811463 B-A    postag=IN\n",
            "-0.856655 I-A    bias\n",
            "-0.883636 O      +1:postag=VBP\n",
            "-0.975711 B-A    bias\n",
            "-1.074608 O      postag=VBN\n",
            "-1.132826 O      +1:postag=VBD\n",
            "-1.146991 O      postag=NNP\n",
            "-1.393457 I-A    postag=VBD\n",
            "-1.458857 I-A    postag=VBZ\n",
            "-1.539683 I-A    postag=RB\n",
            "-1.615545 O      postag=FW\n",
            "-2.125640 O      postag=NN\n",
            "-2.242674 O      postag=NNS\n"
          ]
        }
      ]
    },
    {
      "cell_type": "markdown",
      "metadata": {
        "id": "tkKhCRZ9ht7C"
      },
      "source": [
        "Obviously, the result using just POS as features is not good. Now try training a better model by adding other features, like word info, pre/post word, case information, etc."
      ]
    }
  ]
}